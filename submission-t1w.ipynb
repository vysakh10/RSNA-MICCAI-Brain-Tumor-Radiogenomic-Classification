{
 "cells": [
  {
   "cell_type": "code",
   "execution_count": 1,
   "id": "f1c7ac2c",
   "metadata": {
    "_cell_guid": "b1076dfc-b9ad-4769-8c92-a6c4dae69d19",
    "_uuid": "8f2839f25d086af736a60e9eeb907d3b93b6e0e5",
    "execution": {
     "iopub.execute_input": "2021-08-06T15:37:26.346051Z",
     "iopub.status.busy": "2021-08-06T15:37:26.345418Z",
     "iopub.status.idle": "2021-08-06T15:39:14.665158Z",
     "shell.execute_reply": "2021-08-06T15:39:14.664437Z"
    },
    "papermill": {
     "duration": 108.350225,
     "end_time": "2021-08-06T15:39:14.665336",
     "exception": false,
     "start_time": "2021-08-06T15:37:26.315111",
     "status": "completed"
    },
    "tags": []
   },
   "outputs": [
    {
     "name": "stdout",
     "output_type": "stream",
     "text": [
      "Processing /kaggle/input/pythongdcm/python_gdcm-3.0.9.0-cp37-cp37m-manylinux2014_x86_64.whl\r\n",
      "Installing collected packages: python-gdcm\r\n",
      "Successfully installed python-gdcm-3.0.9.0\r\n",
      "\u001b[33mWARNING: Running pip as root will break packages and permissions. You should install packages reliably by using venv: https://pip.pypa.io/warnings/venv\u001b[0m\r\n",
      "Processing /kaggle/input/efficientnet-library/Keras_Applications-1.0.8-py3-none-any.whl\r\n",
      "Requirement already satisfied: h5py in /opt/conda/lib/python3.7/site-packages (from Keras-Applications==1.0.8) (2.10.0)\r\n",
      "Requirement already satisfied: numpy>=1.9.1 in /opt/conda/lib/python3.7/site-packages (from Keras-Applications==1.0.8) (1.19.5)\r\n",
      "Requirement already satisfied: six in /opt/conda/lib/python3.7/site-packages (from h5py->Keras-Applications==1.0.8) (1.15.0)\r\n",
      "Installing collected packages: Keras-Applications\r\n",
      "Successfully installed Keras-Applications-1.0.8\r\n",
      "\u001b[33mWARNING: Running pip as root will break packages and permissions. You should install packages reliably by using venv: https://pip.pypa.io/warnings/venv\u001b[0m\r\n",
      "Processing /kaggle/input/efficientnet-library/efficientnet-1.1.1-py3-none-any.whl\r\n",
      "Requirement already satisfied: scikit-image in /opt/conda/lib/python3.7/site-packages (from efficientnet==1.1.1) (0.18.2)\r\n",
      "Requirement already satisfied: keras-applications<=1.0.8,>=1.0.7 in /opt/conda/lib/python3.7/site-packages (from efficientnet==1.1.1) (1.0.8)\r\n",
      "Requirement already satisfied: h5py in /opt/conda/lib/python3.7/site-packages (from keras-applications<=1.0.8,>=1.0.7->efficientnet==1.1.1) (2.10.0)\r\n",
      "Requirement already satisfied: numpy>=1.9.1 in /opt/conda/lib/python3.7/site-packages (from keras-applications<=1.0.8,>=1.0.7->efficientnet==1.1.1) (1.19.5)\r\n",
      "Requirement already satisfied: six in /opt/conda/lib/python3.7/site-packages (from h5py->keras-applications<=1.0.8,>=1.0.7->efficientnet==1.1.1) (1.15.0)\r\n",
      "Requirement already satisfied: scipy>=1.0.1 in /opt/conda/lib/python3.7/site-packages (from scikit-image->efficientnet==1.1.1) (1.6.3)\r\n",
      "Requirement already satisfied: networkx>=2.0 in /opt/conda/lib/python3.7/site-packages (from scikit-image->efficientnet==1.1.1) (2.5)\r\n",
      "Requirement already satisfied: pillow!=7.1.0,!=7.1.1,>=4.3.0 in /opt/conda/lib/python3.7/site-packages (from scikit-image->efficientnet==1.1.1) (8.2.0)\r\n",
      "Requirement already satisfied: matplotlib!=3.0.0,>=2.0.0 in /opt/conda/lib/python3.7/site-packages (from scikit-image->efficientnet==1.1.1) (3.4.2)\r\n",
      "Requirement already satisfied: imageio>=2.3.0 in /opt/conda/lib/python3.7/site-packages (from scikit-image->efficientnet==1.1.1) (2.9.0)\r\n",
      "Requirement already satisfied: PyWavelets>=1.1.1 in /opt/conda/lib/python3.7/site-packages (from scikit-image->efficientnet==1.1.1) (1.1.1)\r\n",
      "Requirement already satisfied: tifffile>=2019.7.26 in /opt/conda/lib/python3.7/site-packages (from scikit-image->efficientnet==1.1.1) (2021.7.2)\r\n",
      "Requirement already satisfied: cycler>=0.10 in /opt/conda/lib/python3.7/site-packages (from matplotlib!=3.0.0,>=2.0.0->scikit-image->efficientnet==1.1.1) (0.10.0)\r\n",
      "Requirement already satisfied: kiwisolver>=1.0.1 in /opt/conda/lib/python3.7/site-packages (from matplotlib!=3.0.0,>=2.0.0->scikit-image->efficientnet==1.1.1) (1.3.1)\r\n",
      "Requirement already satisfied: python-dateutil>=2.7 in /opt/conda/lib/python3.7/site-packages (from matplotlib!=3.0.0,>=2.0.0->scikit-image->efficientnet==1.1.1) (2.8.1)\r\n",
      "Requirement already satisfied: pyparsing>=2.2.1 in /opt/conda/lib/python3.7/site-packages (from matplotlib!=3.0.0,>=2.0.0->scikit-image->efficientnet==1.1.1) (2.4.7)\r\n",
      "Requirement already satisfied: decorator>=4.3.0 in /opt/conda/lib/python3.7/site-packages (from networkx>=2.0->scikit-image->efficientnet==1.1.1) (5.0.9)\r\n",
      "Installing collected packages: efficientnet\r\n",
      "Successfully installed efficientnet-1.1.1\r\n",
      "\u001b[33mWARNING: Running pip as root will break packages and permissions. You should install packages reliably by using venv: https://pip.pypa.io/warnings/venv\u001b[0m\r\n",
      "Processing /kaggle/input/imutils-library/imutils-0.5.4\r\n",
      "\u001b[33m  DEPRECATION: A future pip version will change local packages to be built in-place without first copying to a temporary directory. We recommend you use --use-feature=in-tree-build to test your packages with this new behavior before it becomes the default.\r\n",
      "   pip 21.3 will remove support for this functionality. You can find discussion regarding this at https://github.com/pypa/pip/issues/7555.\u001b[0m\r\n",
      "Building wheels for collected packages: imutils\r\n",
      "  Building wheel for imutils (setup.py) ... \u001b[?25l-\b \b\\\b \bdone\r\n",
      "\u001b[?25h  Created wheel for imutils: filename=imutils-0.5.4-py3-none-any.whl size=25860 sha256=bb03f351d31fecb99e13500d36d5bcc76591daf265c5b73ffb9902c06eeb5315\r\n",
      "  Stored in directory: /root/.cache/pip/wheels/53/24/33/4568efa1711ab50ef6650dd96427fc9655987e74cf156e8d79\r\n",
      "Successfully built imutils\r\n",
      "Installing collected packages: imutils\r\n",
      "Successfully installed imutils-0.5.4\r\n",
      "\u001b[33mWARNING: Running pip as root will break packages and permissions. You should install packages reliably by using venv: https://pip.pypa.io/warnings/venv\u001b[0m\r\n"
     ]
    }
   ],
   "source": [
    "!pip install ../input/pythongdcm/python_gdcm-3.0.9.0-cp37-cp37m-manylinux2014_x86_64.whl\n",
    "!pip install ../input/efficientnet-library/Keras_Applications-1.0.8-py3-none-any.whl\n",
    "!pip install ../input/efficientnet-library/efficientnet-1.1.1-py3-none-any.whl\n",
    "!pip install ../input/imutils-library/imutils-0.5.4"
   ]
  },
  {
   "cell_type": "code",
   "execution_count": 2,
   "id": "25909e4e",
   "metadata": {
    "execution": {
     "iopub.execute_input": "2021-08-06T15:39:14.718337Z",
     "iopub.status.busy": "2021-08-06T15:39:14.717568Z",
     "iopub.status.idle": "2021-08-06T15:39:20.296862Z",
     "shell.execute_reply": "2021-08-06T15:39:20.298012Z"
    },
    "papermill": {
     "duration": 5.609832,
     "end_time": "2021-08-06T15:39:20.298240",
     "exception": false,
     "start_time": "2021-08-06T15:39:14.688408",
     "status": "completed"
    },
    "tags": []
   },
   "outputs": [],
   "source": [
    "import numpy as np\n",
    "import pandas as pd\n",
    "import matplotlib.pyplot as plt\n",
    "import seaborn as sns\n",
    "import tensorflow as tf\n",
    "from tensorflow.keras.layers import (Input, Dense, Dropout,LSTM,TimeDistributed, MaxPooling2D,Conv2D, \n",
    "                                    GlobalAveragePooling2D, Flatten)\n",
    "from tensorflow.keras.models import Model, load_model\n",
    "#from tensorflow.keras.applications.resnet50 import ResNet50\n",
    "import glob\n",
    "import os\n",
    "from tqdm import tqdm\n",
    "import imageio\n",
    "from sklearn.model_selection import train_test_split\n",
    "#from sklearn.metrics import roc_auc_score, confusion_matrix\n",
    "from efficientnet.tfkeras import EfficientNetB2, EfficientNetB1\n",
    "#from sklearn.preprocessing import OneHotEncoder\n",
    "import pydicom\n",
    "from pydicom.pixel_data_handlers.util import apply_voi_lut\n",
    "from skimage.transform import resize\n",
    "import time\n",
    "from PIL import Image\n",
    "import warnings \n",
    "warnings.filterwarnings('ignore')\n",
    "import shutil\n",
    "import cv2\n",
    "import imutils"
   ]
  },
  {
   "cell_type": "code",
   "execution_count": 3,
   "id": "1e47bd13",
   "metadata": {
    "execution": {
     "iopub.execute_input": "2021-08-06T15:39:20.373857Z",
     "iopub.status.busy": "2021-08-06T15:39:20.372859Z",
     "iopub.status.idle": "2021-08-06T15:39:20.375186Z",
     "shell.execute_reply": "2021-08-06T15:39:20.374546Z",
     "shell.execute_reply.started": "2021-08-03T09:41:02.249272Z"
    },
    "papermill": {
     "duration": 0.04215,
     "end_time": "2021-08-06T15:39:20.375335",
     "exception": false,
     "start_time": "2021-08-06T15:39:20.333185",
     "status": "completed"
    },
    "tags": []
   },
   "outputs": [],
   "source": [
    "IMG_SIZE = 256\n",
    "N_SEQUENCES = 20"
   ]
  },
  {
   "cell_type": "code",
   "execution_count": 4,
   "id": "5f44b2a3",
   "metadata": {
    "execution": {
     "iopub.execute_input": "2021-08-06T15:39:20.450349Z",
     "iopub.status.busy": "2021-08-06T15:39:20.449674Z",
     "iopub.status.idle": "2021-08-06T15:39:20.464060Z",
     "shell.execute_reply": "2021-08-06T15:39:20.463538Z",
     "shell.execute_reply.started": "2021-08-03T09:41:02.257236Z"
    },
    "papermill": {
     "duration": 0.055684,
     "end_time": "2021-08-06T15:39:20.464171",
     "exception": false,
     "start_time": "2021-08-06T15:39:20.408487",
     "status": "completed"
    },
    "tags": []
   },
   "outputs": [],
   "source": [
    "no_image = np.zeros((IMG_SIZE, IMG_SIZE))\n",
    "imageio.imwrite('./No_image.png', no_image)"
   ]
  },
  {
   "cell_type": "code",
   "execution_count": 5,
   "id": "30edd053",
   "metadata": {
    "execution": {
     "iopub.execute_input": "2021-08-06T15:39:20.510948Z",
     "iopub.status.busy": "2021-08-06T15:39:20.510291Z",
     "iopub.status.idle": "2021-08-06T15:39:20.513969Z",
     "shell.execute_reply": "2021-08-06T15:39:20.513454Z",
     "shell.execute_reply.started": "2021-08-03T09:41:02.292587Z"
    },
    "papermill": {
     "duration": 0.030072,
     "end_time": "2021-08-06T15:39:20.514077",
     "exception": false,
     "start_time": "2021-08-06T15:39:20.484005",
     "status": "completed"
    },
    "tags": []
   },
   "outputs": [],
   "source": [
    "def read_xray(path, voi_lut = True, fix_monochrome = True):\n",
    "    # Original from: https://www.kaggle.com/raddar/convert-dicom-to-np-array-the-correct-way\n",
    "    dicom = pydicom.read_file(path)\n",
    "    \n",
    "    # VOI LUT (if available by DICOM device) is used to transform raw DICOM data to \n",
    "    # \"human-friendly\" view\n",
    "    if voi_lut:\n",
    "        data = apply_voi_lut(dicom.pixel_array, dicom)\n",
    "    else:\n",
    "        data = dicom.pixel_array\n",
    "               \n",
    "    # depending on this value, X-ray may look inverted - fix that:\n",
    "    if fix_monochrome and dicom.PhotometricInterpretation == \"MONOCHROME1\":\n",
    "        data = np.amax(data) - data\n",
    "        \n",
    "    data = data - np.min(data)\n",
    "    data = data / np.max(data)\n",
    "    data = (data * 255).astype(np.uint8)\n",
    "    #print(data.mean())\n",
    "    if data.mean() == 0:\n",
    "        return 'No Img'\n",
    "    else:\n",
    "        return data\n",
    "\n",
    "def resize(array, size, keep_ratio=False, resample=Image.LANCZOS):\n",
    "    # Original from: https://www.kaggle.com/xhlulu/vinbigdata-process-and-resize-to-image\n",
    "    im = Image.fromarray(array)\n",
    "    \n",
    "    if keep_ratio:\n",
    "        im.thumbnail((size, size), resample)\n",
    "    else:\n",
    "        im = im.resize((size, size), resample)\n",
    "    \n",
    "    return im"
   ]
  },
  {
   "cell_type": "code",
   "execution_count": 6,
   "id": "97663b49",
   "metadata": {
    "execution": {
     "iopub.execute_input": "2021-08-06T15:39:20.556784Z",
     "iopub.status.busy": "2021-08-06T15:39:20.556260Z",
     "iopub.status.idle": "2021-08-06T15:39:20.579814Z",
     "shell.execute_reply": "2021-08-06T15:39:20.579306Z",
     "shell.execute_reply.started": "2021-08-03T09:41:02.304142Z"
    },
    "papermill": {
     "duration": 0.046113,
     "end_time": "2021-08-06T15:39:20.579953",
     "exception": false,
     "start_time": "2021-08-06T15:39:20.533840",
     "status": "completed"
    },
    "tags": []
   },
   "outputs": [],
   "source": [
    "split = 'test'\n",
    "save_dir = f'/kaggle/tmp/{split}/'\n",
    "os.makedirs(save_dir, exist_ok=True)\n",
    "\n",
    "test_cases = os.listdir('../input/rsna-miccai-brain-tumor-radiogenomic-classification/test')"
   ]
  },
  {
   "cell_type": "code",
   "execution_count": 7,
   "id": "87c29f7f",
   "metadata": {
    "execution": {
     "iopub.execute_input": "2021-08-06T15:39:20.625447Z",
     "iopub.status.busy": "2021-08-06T15:39:20.623959Z",
     "iopub.status.idle": "2021-08-06T15:39:20.644526Z",
     "shell.execute_reply": "2021-08-06T15:39:20.644120Z",
     "shell.execute_reply.started": "2021-08-03T09:41:02.327901Z"
    },
    "papermill": {
     "duration": 0.045261,
     "end_time": "2021-08-06T15:39:20.644646",
     "exception": false,
     "start_time": "2021-08-06T15:39:20.599385",
     "status": "completed"
    },
    "tags": []
   },
   "outputs": [
    {
     "name": "stderr",
     "output_type": "stream",
     "text": [
      "100%|██████████| 87/87 [00:00<00:00, 6079.31it/s]\n"
     ]
    }
   ],
   "source": [
    "scans = ['FLAIR', 'T1w', 'T1wCE', 'T2w']\n",
    "for i in tqdm(test_cases):\n",
    "    os.makedirs(save_dir + i)\n",
    "    for s in scans:\n",
    "        os.makedirs(save_dir + i + '/' + s)"
   ]
  },
  {
   "cell_type": "code",
   "execution_count": 8,
   "id": "41da0352",
   "metadata": {
    "execution": {
     "iopub.execute_input": "2021-08-06T15:39:20.691206Z",
     "iopub.status.busy": "2021-08-06T15:39:20.690699Z",
     "iopub.status.idle": "2021-08-06T15:39:20.693902Z",
     "shell.execute_reply": "2021-08-06T15:39:20.694309Z",
     "shell.execute_reply.started": "2021-08-03T09:41:02.369484Z"
    },
    "papermill": {
     "duration": 0.029564,
     "end_time": "2021-08-06T15:39:20.694422",
     "exception": false,
     "start_time": "2021-08-06T15:39:20.664858",
     "status": "completed"
    },
    "tags": []
   },
   "outputs": [],
   "source": [
    "def select_images(images, n_images_to_consider=20):\n",
    "    '''Selects the given number of images to consider'''\n",
    "    no_image_path = './No_image.png'\n",
    "    images_path_100 = []\n",
    "    n_images = len(images)\n",
    "    #new_paths_100 = []\n",
    "    \n",
    "    if n_images < n_images_to_consider:\n",
    "        while n_images < n_images_to_consider:\n",
    "            images.append(no_image_path)\n",
    "            n_images += 1\n",
    "        new_paths_100 = images.copy()\n",
    "    elif n_images == n_images_to_consider:\n",
    "        new_paths_100 = images.copy()\n",
    "    else:\n",
    "        m = n_images - n_images_to_consider\n",
    "        if m % 2 == 0:\n",
    "            left = right = int(m/2)\n",
    "        else:\n",
    "            left = int(m//2)\n",
    "            right = int(left + 1)\n",
    "        \n",
    "        right = n_images - right\n",
    "        new_paths_100 = images[left:right]\n",
    "    \n",
    "    return new_paths_100"
   ]
  },
  {
   "cell_type": "code",
   "execution_count": 9,
   "id": "44bc438a",
   "metadata": {
    "execution": {
     "iopub.execute_input": "2021-08-06T15:39:20.741141Z",
     "iopub.status.busy": "2021-08-06T15:39:20.740430Z",
     "iopub.status.idle": "2021-08-06T15:39:20.742630Z",
     "shell.execute_reply": "2021-08-06T15:39:20.743032Z",
     "shell.execute_reply.started": "2021-08-03T09:41:02.378039Z"
    },
    "papermill": {
     "duration": 0.027638,
     "end_time": "2021-08-06T15:39:20.743142",
     "exception": false,
     "start_time": "2021-08-06T15:39:20.715504",
     "status": "completed"
    },
    "tags": []
   },
   "outputs": [],
   "source": [
    "def save_images_case_wise(case, images):\n",
    "    '''Saves only valid images'''\n",
    "    \n",
    "    path = '/kaggle/tmp/test/' + case + '/T1w/'\n",
    "    new_filenames = []\n",
    "    for file in images:\n",
    "        #print(file)\n",
    "        xray = read_xray(file)\n",
    "\n",
    "        if xray != 'No Img':\n",
    "            im = resize(xray, size=IMG_SIZE) \n",
    "            \n",
    "            img_id = file.split('/')[-1].split('.')[-2] + '.png'\n",
    "\n",
    "            filename = path + img_id\n",
    "            im.save(filename)\n",
    "            new_filenames.append(filename)\n",
    "    \n",
    "  #  print(len(new_filenames))\n",
    "    selected_images = select_images(new_filenames, N_SEQUENCES)\n",
    "  #  print(len(selected_images))\n",
    "    return selected_images"
   ]
  },
  {
   "cell_type": "code",
   "execution_count": 10,
   "id": "8e75caca",
   "metadata": {
    "execution": {
     "iopub.execute_input": "2021-08-06T15:39:20.787810Z",
     "iopub.status.busy": "2021-08-06T15:39:20.787262Z",
     "iopub.status.idle": "2021-08-06T15:41:34.409243Z",
     "shell.execute_reply": "2021-08-06T15:41:34.408826Z",
     "shell.execute_reply.started": "2021-08-03T09:41:02.407272Z"
    },
    "papermill": {
     "duration": 133.646217,
     "end_time": "2021-08-06T15:41:34.409366",
     "exception": false,
     "start_time": "2021-08-06T15:39:20.763149",
     "status": "completed"
    },
    "tags": []
   },
   "outputs": [
    {
     "name": "stderr",
     "output_type": "stream",
     "text": [
      "100%|██████████| 87/87 [02:13<00:00,  1.54s/it]\n"
     ]
    }
   ],
   "source": [
    "t1w_cases = dict() # images\n",
    "\n",
    "for CASE in tqdm(test_cases):\n",
    "\n",
    "    temp = sorted(glob.glob('../input/rsna-miccai-brain-tumor-radiogenomic-classification/test/'+CASE+'/T1w/*'), \n",
    "              key = lambda l: int(l.split('-')[-1].split('.')[-2]))\n",
    "    \n",
    "    #c_t2w_images = select_images(temp, N_SEQUENCES)\n",
    "    \n",
    "    new_filenames = save_images_case_wise(CASE, temp)\n",
    "    \n",
    "    t1w_cases[CASE] = new_filenames"
   ]
  },
  {
   "cell_type": "code",
   "execution_count": 11,
   "id": "a680ec1f",
   "metadata": {
    "execution": {
     "iopub.execute_input": "2021-08-06T15:41:34.500764Z",
     "iopub.status.busy": "2021-08-06T15:41:34.500210Z",
     "iopub.status.idle": "2021-08-06T15:41:34.504770Z",
     "shell.execute_reply": "2021-08-06T15:41:34.505169Z",
     "shell.execute_reply.started": "2021-08-03T09:43:25.290585Z"
    },
    "papermill": {
     "duration": 0.05313,
     "end_time": "2021-08-06T15:41:34.505303",
     "exception": false,
     "start_time": "2021-08-06T15:41:34.452173",
     "status": "completed"
    },
    "tags": []
   },
   "outputs": [
    {
     "data": {
      "text/plain": [
       "(20,\n",
       " ['/kaggle/tmp/test/00013/T1w/Image-4.png',\n",
       "  '/kaggle/tmp/test/00013/T1w/Image-5.png',\n",
       "  '/kaggle/tmp/test/00013/T1w/Image-6.png'])"
      ]
     },
     "execution_count": 11,
     "metadata": {},
     "output_type": "execute_result"
    }
   ],
   "source": [
    "len(t1w_cases['00013']), t1w_cases['00013'][:3]"
   ]
  },
  {
   "cell_type": "code",
   "execution_count": 12,
   "id": "56839bc3",
   "metadata": {
    "execution": {
     "iopub.execute_input": "2021-08-06T15:41:34.604385Z",
     "iopub.status.busy": "2021-08-06T15:41:34.603819Z",
     "iopub.status.idle": "2021-08-06T15:41:34.606432Z",
     "shell.execute_reply": "2021-08-06T15:41:34.606822Z",
     "shell.execute_reply.started": "2021-08-03T08:39:59.623721Z"
    },
    "papermill": {
     "duration": 0.059449,
     "end_time": "2021-08-06T15:41:34.606948",
     "exception": false,
     "start_time": "2021-08-06T15:41:34.547499",
     "status": "completed"
    },
    "tags": []
   },
   "outputs": [],
   "source": [
    "def apply_clahe(img, cliplimit=10, grid_size=8):\n",
    "    #img = cv2.imread(img)\n",
    "    if img.mean() > 0.1:\n",
    "        hsv = cv2.cvtColor(img, cv2.COLOR_BGR2HSV)\n",
    "        hsv_planes = cv2.split(hsv)\n",
    "        clahe = cv2.createCLAHE(clipLimit=cliplimit, tileGridSize=(grid_size,grid_size))\n",
    "        hsv_planes[2] = clahe.apply(hsv_planes[2])\n",
    "        hsv = cv2.merge(hsv_planes)\n",
    "        hsv = cv2.cvtColor(hsv, cv2.COLOR_HSV2BGR)\n",
    "\n",
    "        return hsv, img.shape\n",
    "    else:\n",
    "        return \"Don't Use\", img.shape\n",
    "\n",
    "def img_crop(img_path):\n",
    "    \n",
    "   # IMG_SIZE = (512, 512)\n",
    "    img, shape = apply_clahe(img_path)  # original\n",
    "   # img = cv2.resize(img, dsize=IMG_SIZE, interpolation=cv2.INTER_CUBIC)\n",
    "    #img_clahe = apply_clahe(img)\n",
    "    if img != \"Don't Use\":\n",
    "\n",
    "        gray = cv2.cvtColor(img, cv2.COLOR_RGB2GRAY)\n",
    "        gray = cv2.GaussianBlur(gray, (5, 5), 0)\n",
    "\n",
    "        # threshold the image, then perform a series of erosions +\n",
    "        # dilations to remove any small regions of noise\n",
    "        thresh = cv2.threshold(gray, 45, 255, cv2.THRESH_BINARY)[1]\n",
    "        thresh = cv2.erode(thresh, None, iterations=2)\n",
    "        thresh = cv2.dilate(thresh, None, iterations=2)\n",
    "\n",
    "        # find contours in thresholded image, then grab the largest one\n",
    "        cnts = cv2.findContours(thresh.copy(), cv2.RETR_EXTERNAL, cv2.CHAIN_APPROX_SIMPLE)\n",
    "        cnts = imutils.grab_contours(cnts)\n",
    "        if cnts == []:\n",
    "            return 'Max is Null', 'asd'\n",
    "        else:\n",
    "            c = max(cnts, key=cv2.contourArea)\n",
    "\n",
    "            # find the extreme points\n",
    "            extLeft = tuple(c[c[:, :, 0].argmin()][0])\n",
    "            extRight = tuple(c[c[:, :, 0].argmax()][0])\n",
    "            extTop = tuple(c[c[:, :, 1].argmin()][0])\n",
    "            extBot = tuple(c[c[:, :, 1].argmax()][0])\n",
    "\n",
    "            # add contour on the image\n",
    "            img_cnt = cv2.drawContours(img.copy(), [c], -1, (0, 255, 255), 4)  # contour\n",
    "\n",
    "            # add extreme points\n",
    "            img_pnt = cv2.circle(img_cnt.copy(), extLeft, 8, (0, 0, 255), -1)\n",
    "            img_pnt = cv2.circle(img_pnt, extRight, 8, (0, 255, 0), -1)\n",
    "            img_pnt = cv2.circle(img_pnt, extTop, 8, (255, 0, 0), -1)\n",
    "            img_pnt = cv2.circle(img_pnt, extBot, 8, (255, 255, 0), -1)  # image with extreme points\n",
    "\n",
    "            # crop\n",
    "            ADD_PIXELS = 0\n",
    "            new_img = img[extTop[1]-ADD_PIXELS:extBot[1]+ADD_PIXELS, extLeft[0]-ADD_PIXELS:extRight[0]+ADD_PIXELS].copy() #cropped\n",
    "\n",
    "            return new_img, shape\n",
    "    else:\n",
    "        return 'No Image', 'No Shape'"
   ]
  },
  {
   "cell_type": "code",
   "execution_count": 13,
   "id": "226b33d8",
   "metadata": {
    "execution": {
     "iopub.execute_input": "2021-08-06T15:41:34.702110Z",
     "iopub.status.busy": "2021-08-06T15:41:34.700846Z",
     "iopub.status.idle": "2021-08-06T15:41:34.703233Z",
     "shell.execute_reply": "2021-08-06T15:41:34.703655Z",
     "shell.execute_reply.started": "2021-08-03T08:39:59.64599Z"
    },
    "papermill": {
     "duration": 0.054408,
     "end_time": "2021-08-06T15:41:34.703783",
     "exception": false,
     "start_time": "2021-08-06T15:41:34.649375",
     "status": "completed"
    },
    "tags": []
   },
   "outputs": [],
   "source": [
    "def generator_inference(x, batch_size=8, n_sequences = 25):\n",
    "    \n",
    "    AUTO = tf.data.experimental.AUTOTUNE\n",
    "    \n",
    "    def load_image(x):\n",
    "    \n",
    "        file = tf.io.read_file(x)\n",
    "        img = tf.image.decode_png(file, channels = 3)\n",
    "        #img = tf.image.convert_image_dtype(img, tf.float16)\n",
    "        #img = tf.image.resize(img, (IMG_SIZE, IMG_SIZE))   \n",
    "\n",
    "        return img\n",
    "\n",
    "    def load_image_stream(x):\n",
    "\n",
    "        image_sequence = np.zeros((n_sequences, IMG_SIZE, IMG_SIZE, 3), dtype=np.float32)\n",
    "        img_path_lst = t1w_cases[x.decode('utf-8')]\n",
    "        #img_path_lst = t2w_cases[x]\n",
    "        #print(img_path_lst)\n",
    "        c = 0\n",
    "        for p in img_path_lst:\n",
    "            img = cv2.imread(p)\n",
    "            \n",
    "            clahe_and_cropped, shape = img_crop(img)\n",
    "            if clahe_and_cropped != 'No Image' and clahe_and_cropped != 'Max is Null':\n",
    "                if shape[0] > 224:\n",
    "                    img_resized = cv2.resize(clahe_and_cropped, dsize=(IMG_SIZE, IMG_SIZE), interpolation=cv2.INTER_AREA)\n",
    "                else:\n",
    "                    img_resized = cv2.resize(clahe_and_cropped, dsize=(IMG_SIZE, IMG_SIZE), interpolation=cv2.INTER_CUBIC)\n",
    "              #  img = apply_clahe(img)/255.0\n",
    "                #image_sequence[c] = np.resize(img, (IMG_SIZE, IMG_SIZE, 3))\n",
    "                image_sequence[c] = tf.image.convert_image_dtype(img_resized, tf.float32)\n",
    "                c += 1\n",
    "        return image_sequence.astype(np.float32)\n",
    "    \n",
    "    dset = tf.data.Dataset.from_tensor_slices((x))\n",
    "    dset = dset.map(lambda x1: tf.numpy_function(load_image_stream, [x1], [tf.float32]), num_parallel_calls = AUTO)\n",
    "    #dset = dset.batch(batch_size)\n",
    "    dset = dset.prefetch(buffer_size = AUTO)\n",
    "    \n",
    "    return dset"
   ]
  },
  {
   "cell_type": "code",
   "execution_count": 14,
   "id": "feb7a508",
   "metadata": {
    "execution": {
     "iopub.execute_input": "2021-08-06T15:41:34.792607Z",
     "iopub.status.busy": "2021-08-06T15:41:34.792101Z",
     "iopub.status.idle": "2021-08-06T15:42:24.164312Z",
     "shell.execute_reply": "2021-08-06T15:42:24.164755Z"
    },
    "papermill": {
     "duration": 49.418701,
     "end_time": "2021-08-06T15:42:24.164943",
     "exception": false,
     "start_time": "2021-08-06T15:41:34.746242",
     "status": "completed"
    },
    "tags": []
   },
   "outputs": [],
   "source": [
    "model0 = load_model('../input/t1w-ensemble-on-256-20-images/T1w_with_20_256_Res_B1_Preprocessed_0_epoch_10.h5')\n",
    "model1 = load_model('../input/t1w-ensemble-on-256-20-images/T1w_with_20_256_Res_B1_Preprocessed_1_epoch_10.h5')\n",
    "model2 = load_model('../input/t1w-ensemble-on-256-20-images/T1w_with_20_256_Res_B1_Preprocessed_2_epoch_10.h5')\n",
    "model3 = load_model('../input/t1w-ensemble-on-256-20-images/T1w_with_20_256_Res_B1_Preprocessed_3_epoch_10.h5')\n",
    "model4 = load_model('../input/t1w-ensemble-on-256-20-images/T1w_with_20_256_Res_B1_Preprocessed_4_epoch_10.h5')\n",
    "\n",
    "models = [model0, model1, model2, model3, model4]"
   ]
  },
  {
   "cell_type": "code",
   "execution_count": 15,
   "id": "b81e8051",
   "metadata": {
    "execution": {
     "iopub.execute_input": "2021-08-06T15:42:24.255903Z",
     "iopub.status.busy": "2021-08-06T15:42:24.255307Z",
     "iopub.status.idle": "2021-08-06T15:42:24.288418Z",
     "shell.execute_reply": "2021-08-06T15:42:24.288824Z",
     "shell.execute_reply.started": "2021-08-03T08:45:07.456889Z"
    },
    "papermill": {
     "duration": 0.080808,
     "end_time": "2021-08-06T15:42:24.288960",
     "exception": false,
     "start_time": "2021-08-06T15:42:24.208152",
     "status": "completed"
    },
    "tags": []
   },
   "outputs": [],
   "source": [
    "test_gen = generator_inference(test_cases, batch_size=4, n_sequences=N_SEQUENCES)"
   ]
  },
  {
   "cell_type": "code",
   "execution_count": 16,
   "id": "7c1e8b9a",
   "metadata": {
    "execution": {
     "iopub.execute_input": "2021-08-06T15:42:24.379121Z",
     "iopub.status.busy": "2021-08-06T15:42:24.378530Z",
     "iopub.status.idle": "2021-08-06T15:43:34.102570Z",
     "shell.execute_reply": "2021-08-06T15:43:34.103002Z",
     "shell.execute_reply.started": "2021-08-03T08:45:22.992532Z"
    },
    "papermill": {
     "duration": 69.771129,
     "end_time": "2021-08-06T15:43:34.103159",
     "exception": false,
     "start_time": "2021-08-06T15:42:24.332030",
     "status": "completed"
    },
    "tags": []
   },
   "outputs": [
    {
     "name": "stdout",
     "output_type": "stream",
     "text": [
      "87/87 [==============================] - 18s 109ms/step\n",
      "87/87 [==============================] - 13s 118ms/step\n",
      "87/87 [==============================] - 13s 115ms/step\n",
      "87/87 [==============================] - 13s 113ms/step\n",
      "87/87 [==============================] - 12s 110ms/step\n"
     ]
    }
   ],
   "source": [
    "combined_preds = sum([m.predict(test_gen, verbose=1)[:,1] for m in models])/len(models)"
   ]
  },
  {
   "cell_type": "code",
   "execution_count": 17,
   "id": "e2a8b94a",
   "metadata": {
    "execution": {
     "iopub.execute_input": "2021-08-06T15:43:34.398601Z",
     "iopub.status.busy": "2021-08-06T15:43:34.398083Z",
     "iopub.status.idle": "2021-08-06T15:43:34.425123Z",
     "shell.execute_reply": "2021-08-06T15:43:34.425874Z"
    },
    "papermill": {
     "duration": 0.1775,
     "end_time": "2021-08-06T15:43:34.426021",
     "exception": false,
     "start_time": "2021-08-06T15:43:34.248521",
     "status": "completed"
    },
    "tags": []
   },
   "outputs": [
    {
     "data": {
      "text/html": [
       "<div>\n",
       "<style scoped>\n",
       "    .dataframe tbody tr th:only-of-type {\n",
       "        vertical-align: middle;\n",
       "    }\n",
       "\n",
       "    .dataframe tbody tr th {\n",
       "        vertical-align: top;\n",
       "    }\n",
       "\n",
       "    .dataframe thead th {\n",
       "        text-align: right;\n",
       "    }\n",
       "</style>\n",
       "<table border=\"1\" class=\"dataframe\">\n",
       "  <thead>\n",
       "    <tr style=\"text-align: right;\">\n",
       "      <th></th>\n",
       "      <th>BraTS21ID</th>\n",
       "      <th>MGMT_value</th>\n",
       "    </tr>\n",
       "  </thead>\n",
       "  <tbody>\n",
       "    <tr>\n",
       "      <th>0</th>\n",
       "      <td>1</td>\n",
       "      <td>0.5</td>\n",
       "    </tr>\n",
       "    <tr>\n",
       "      <th>1</th>\n",
       "      <td>13</td>\n",
       "      <td>0.5</td>\n",
       "    </tr>\n",
       "    <tr>\n",
       "      <th>2</th>\n",
       "      <td>15</td>\n",
       "      <td>0.5</td>\n",
       "    </tr>\n",
       "    <tr>\n",
       "      <th>3</th>\n",
       "      <td>27</td>\n",
       "      <td>0.5</td>\n",
       "    </tr>\n",
       "    <tr>\n",
       "      <th>4</th>\n",
       "      <td>37</td>\n",
       "      <td>0.5</td>\n",
       "    </tr>\n",
       "  </tbody>\n",
       "</table>\n",
       "</div>"
      ],
      "text/plain": [
       "   BraTS21ID  MGMT_value\n",
       "0          1         0.5\n",
       "1         13         0.5\n",
       "2         15         0.5\n",
       "3         27         0.5\n",
       "4         37         0.5"
      ]
     },
     "execution_count": 17,
     "metadata": {},
     "output_type": "execute_result"
    }
   ],
   "source": [
    "sample_sub = pd.read_csv('../input/rsna-miccai-brain-tumor-radiogenomic-classification/sample_submission.csv')\n",
    "sample_sub.head()"
   ]
  },
  {
   "cell_type": "code",
   "execution_count": 18,
   "id": "aa74f12e",
   "metadata": {
    "execution": {
     "iopub.execute_input": "2021-08-06T15:43:34.723395Z",
     "iopub.status.busy": "2021-08-06T15:43:34.722641Z",
     "iopub.status.idle": "2021-08-06T15:43:34.724976Z",
     "shell.execute_reply": "2021-08-06T15:43:34.725339Z"
    },
    "papermill": {
     "duration": 0.152779,
     "end_time": "2021-08-06T15:43:34.725469",
     "exception": false,
     "start_time": "2021-08-06T15:43:34.572690",
     "status": "completed"
    },
    "tags": []
   },
   "outputs": [],
   "source": [
    "def modify_cases(x):\n",
    "    return int(x)"
   ]
  },
  {
   "cell_type": "code",
   "execution_count": 19,
   "id": "c7c29f94",
   "metadata": {
    "execution": {
     "iopub.execute_input": "2021-08-06T15:43:35.033171Z",
     "iopub.status.busy": "2021-08-06T15:43:35.032404Z",
     "iopub.status.idle": "2021-08-06T15:43:35.035665Z",
     "shell.execute_reply": "2021-08-06T15:43:35.036044Z"
    },
    "papermill": {
     "duration": 0.164027,
     "end_time": "2021-08-06T15:43:35.036177",
     "exception": false,
     "start_time": "2021-08-06T15:43:34.872150",
     "status": "completed"
    },
    "tags": []
   },
   "outputs": [
    {
     "data": {
      "text/html": [
       "<div>\n",
       "<style scoped>\n",
       "    .dataframe tbody tr th:only-of-type {\n",
       "        vertical-align: middle;\n",
       "    }\n",
       "\n",
       "    .dataframe tbody tr th {\n",
       "        vertical-align: top;\n",
       "    }\n",
       "\n",
       "    .dataframe thead th {\n",
       "        text-align: right;\n",
       "    }\n",
       "</style>\n",
       "<table border=\"1\" class=\"dataframe\">\n",
       "  <thead>\n",
       "    <tr style=\"text-align: right;\">\n",
       "      <th></th>\n",
       "      <th>BraTS21ID</th>\n",
       "      <th>MGMT_value</th>\n",
       "    </tr>\n",
       "  </thead>\n",
       "  <tbody>\n",
       "    <tr>\n",
       "      <th>0</th>\n",
       "      <td>114</td>\n",
       "      <td>0.455516</td>\n",
       "    </tr>\n",
       "    <tr>\n",
       "      <th>1</th>\n",
       "      <td>13</td>\n",
       "      <td>0.453575</td>\n",
       "    </tr>\n",
       "    <tr>\n",
       "      <th>2</th>\n",
       "      <td>821</td>\n",
       "      <td>0.442277</td>\n",
       "    </tr>\n",
       "    <tr>\n",
       "      <th>3</th>\n",
       "      <td>644</td>\n",
       "      <td>0.458444</td>\n",
       "    </tr>\n",
       "    <tr>\n",
       "      <th>4</th>\n",
       "      <td>699</td>\n",
       "      <td>0.415174</td>\n",
       "    </tr>\n",
       "    <tr>\n",
       "      <th>...</th>\n",
       "      <td>...</td>\n",
       "      <td>...</td>\n",
       "    </tr>\n",
       "    <tr>\n",
       "      <th>82</th>\n",
       "      <td>474</td>\n",
       "      <td>0.441804</td>\n",
       "    </tr>\n",
       "    <tr>\n",
       "      <th>83</th>\n",
       "      <td>174</td>\n",
       "      <td>0.419048</td>\n",
       "    </tr>\n",
       "    <tr>\n",
       "      <th>84</th>\n",
       "      <td>119</td>\n",
       "      <td>0.450226</td>\n",
       "    </tr>\n",
       "    <tr>\n",
       "      <th>85</th>\n",
       "      <td>80</td>\n",
       "      <td>0.458487</td>\n",
       "    </tr>\n",
       "    <tr>\n",
       "      <th>86</th>\n",
       "      <td>182</td>\n",
       "      <td>0.457991</td>\n",
       "    </tr>\n",
       "  </tbody>\n",
       "</table>\n",
       "<p>87 rows × 2 columns</p>\n",
       "</div>"
      ],
      "text/plain": [
       "    BraTS21ID  MGMT_value\n",
       "0         114    0.455516\n",
       "1          13    0.453575\n",
       "2         821    0.442277\n",
       "3         644    0.458444\n",
       "4         699    0.415174\n",
       "..        ...         ...\n",
       "82        474    0.441804\n",
       "83        174    0.419048\n",
       "84        119    0.450226\n",
       "85         80    0.458487\n",
       "86        182    0.457991\n",
       "\n",
       "[87 rows x 2 columns]"
      ]
     },
     "execution_count": 19,
     "metadata": {},
     "output_type": "execute_result"
    }
   ],
   "source": [
    "submission = pd.DataFrame()\n",
    "submission['BraTS21ID'] = test_cases\n",
    "submission['MGMT_value'] = combined_preds\n",
    "submission['BraTS21ID'] = submission['BraTS21ID'].apply(lambda x: modify_cases(x))\n",
    "submission"
   ]
  },
  {
   "cell_type": "code",
   "execution_count": 20,
   "id": "310bce7c",
   "metadata": {
    "execution": {
     "iopub.execute_input": "2021-08-06T15:43:35.332010Z",
     "iopub.status.busy": "2021-08-06T15:43:35.331302Z",
     "iopub.status.idle": "2021-08-06T15:43:35.333997Z",
     "shell.execute_reply": "2021-08-06T15:43:35.333582Z"
    },
    "papermill": {
     "duration": 0.151979,
     "end_time": "2021-08-06T15:43:35.334105",
     "exception": false,
     "start_time": "2021-08-06T15:43:35.182126",
     "status": "completed"
    },
    "tags": []
   },
   "outputs": [],
   "source": [
    "os.remove('./No_image.png')"
   ]
  },
  {
   "cell_type": "code",
   "execution_count": 21,
   "id": "81dead9c",
   "metadata": {
    "execution": {
     "iopub.execute_input": "2021-08-06T15:43:35.627780Z",
     "iopub.status.busy": "2021-08-06T15:43:35.626956Z",
     "iopub.status.idle": "2021-08-06T15:43:35.632536Z",
     "shell.execute_reply": "2021-08-06T15:43:35.632133Z"
    },
    "papermill": {
     "duration": 0.153771,
     "end_time": "2021-08-06T15:43:35.632674",
     "exception": false,
     "start_time": "2021-08-06T15:43:35.478903",
     "status": "completed"
    },
    "tags": []
   },
   "outputs": [],
   "source": [
    "submission.to_csv('submission.csv', index=False)"
   ]
  },
  {
   "cell_type": "code",
   "execution_count": null,
   "id": "a2ff24b6",
   "metadata": {
    "papermill": {
     "duration": 0.146532,
     "end_time": "2021-08-06T15:43:35.924572",
     "exception": false,
     "start_time": "2021-08-06T15:43:35.778040",
     "status": "completed"
    },
    "tags": []
   },
   "outputs": [],
   "source": []
  }
 ],
 "metadata": {
  "kernelspec": {
   "display_name": "Python 3",
   "language": "python",
   "name": "python3"
  },
  "language_info": {
   "codemirror_mode": {
    "name": "ipython",
    "version": 3
   },
   "file_extension": ".py",
   "mimetype": "text/x-python",
   "name": "python",
   "nbconvert_exporter": "python",
   "pygments_lexer": "ipython3",
   "version": "3.7.10"
  },
  "papermill": {
   "default_parameters": {},
   "duration": 379.701148,
   "end_time": "2021-08-06T15:43:39.271037",
   "environment_variables": {},
   "exception": null,
   "input_path": "__notebook__.ipynb",
   "output_path": "__notebook__.ipynb",
   "parameters": {},
   "start_time": "2021-08-06T15:37:19.569889",
   "version": "2.3.3"
  }
 },
 "nbformat": 4,
 "nbformat_minor": 5
}
